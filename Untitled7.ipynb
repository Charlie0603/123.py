{
  "nbformat": 4,
  "nbformat_minor": 0,
  "metadata": {
    "colab": {
      "provenance": [],
      "authorship_tag": "ABX9TyOMqfzTwXnRjH3lSxWKS8dp"
    },
    "kernelspec": {
      "name": "python3",
      "display_name": "Python 3"
    },
    "language_info": {
      "name": "python"
    }
  },
  "cells": [
    {
      "cell_type": "code",
      "execution_count": null,
      "metadata": {
        "id": "SrHXby_OhfxY"
      },
      "outputs": [],
      "source": [
        "import streamlit as st\n",
        "st.title (\"2022年最新發票兌獎程式\")\n",
        "st.text_input('輸入您的發票號碼')\n",
        "ns = '05701942'                         # 特別獎\n",
        "n1 = '97718570'                         # 特獎\n",
        "n2 = ['88400675','73475574','53038222'] # 頭獎\n",
        "if num == ns: st.write(\"對中 1000 萬元！\")   # 對中特別獎\n",
        "if num == n1: st.write(\"對中 200 萬元！\")    # 對中特獎\n",
        "# 頭獎判斷\n",
        "for i in n2:\n",
        "    if num == i:\n",
        "        st.write(\"對中 20 萬元！\")   # 對中頭獎\n",
        "        break\n",
        "    if num[-7:] == i[-7:]:\n",
        "        st.write(\"對中 4 萬元！\")    # 末七碼相同\n",
        "        break\n",
        "    if num[-6:] == i[-6:]:\n",
        "        st.write(\"對中 1 萬元！\")    # 末六碼相同\n",
        "        break\n",
        "    if num[-5:] == i[-5:]:\n",
        "        st.write(\"對中 4000 元\"')   # 末五碼相同\n",
        "        break\n",
        "    if num[-4:] == i[-4:]:\n",
        "        st.write(\"對中 1000 元！\")   # 末四碼相同\n",
        "        break\n",
        "    if num[-3:] == i[-3:]:\n",
        "        st.write(\"對中 200 元！\")    # 末三碼相同\n",
        "        break\n",
        "    else:\n",
        "      st.write(\"再接再厲下次加油\")\n",
        "      break"
      ]
    }
  ]
}